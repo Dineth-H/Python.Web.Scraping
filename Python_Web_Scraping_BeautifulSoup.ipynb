{
  "nbformat": 4,
  "nbformat_minor": 0,
  "metadata": {
    "colab": {
      "provenance": []
    },
    "kernelspec": {
      "name": "python3",
      "display_name": "Python 3"
    },
    "language_info": {
      "name": "python"
    }
  },
  "cells": [
    {
      "cell_type": "code",
      "execution_count": null,
      "metadata": {
        "id": "w5k-xqYrqPoo"
      },
      "outputs": [],
      "source": [
        "html_doc = \"\"\"<html><head><title>The Dormouse's story</title></head>\n",
        "<body>\n",
        "<p class=\"title\"><b>The Dormouse's story</b></p>\n",
        "\n",
        "<p class=\"story\">Once upon a time there were three little sisters; and their names were\n",
        "<a href=\"http://example.com/elsie\" class=\"sister\" id=\"link1\">Elsie</a>,\n",
        "<a href=\"http://example.com/lacie\" class=\"sister\" id=\"link2\">Lacie</a> and\n",
        "<a href=\"http://example.com/tillie\" class=\"sister\" id=\"link3\">Tillie</a>;\n",
        "and they lived at the bottom of a well.</p>\n",
        "\n",
        "<p class=\"story\">...</p>\n",
        "\"\"\"\n",
        "\n",
        "from bs4 import BeautifulSoup\n",
        "soup = BeautifulSoup(html_doc, 'html.parser')\n",
        "\n",
        "#The BeautifulSoup object, represents the document as a nested data structure.\n",
        "#prettify method print it in a way which is easy to read.\n",
        "#print(soup.prettify())\n",
        "\n",
        "#Here are some ways to navigate the data structure\n",
        "\n",
        "\n",
        "print(soup.title)\n",
        "# <title>The Dormouse's story</title>\n",
        "\n",
        "print(soup.title.name)\n",
        "# u'title'\n",
        "\n",
        "print(soup.title.string)\n",
        "# u'The Dormouse's story'\n",
        "\n",
        "print(soup.title.parent.name)\n",
        "# u'head'\n",
        "\n",
        "print(soup.p)\n",
        "# <p class=\"title\"><b>The Dormouse's story</b></p>\n",
        "\n",
        "print(soup.p['class'])\n",
        "# u'title'\n",
        "\n",
        "print(soup.a)\n",
        "# <a class=\"sister\" href=\"http://example.com/elsie\" id=\"link1\">Elsie</a>\n",
        "\n",
        "links = soup.find_all('a')\n",
        "# [<a class=\"sister\" href=\"http://example.com/elsie\" id=\"link1\">Elsie</a>,\n",
        "#  <a class=\"sister\" href=\"http://example.com/lacie\" id=\"link2\">Lacie</a>,\n",
        "#  <a class=\"sister\" href=\"http://example.com/tillie\" id=\"link3\">Tillie</a>]\n",
        "for link in links:\n",
        "  print(link)\n",
        "\n",
        "print(soup.find(id=\"link3\"))\n",
        "# <a class=\"sister\" href=\"http://example.com/tillie\" id=\"link3\">Tillie</a>\n",
        "\n",
        "#Lets try to get siblings of the p tag\n",
        "children = soup.p.parent.children\n",
        "for child in children:\n",
        "  print('Child:',child)\n",
        "\n",
        "#or you can go sideways\n",
        "print('Sibling:',soup.p.next_sibling.next_sibling)\n",
        "\n",
        "#For many other methods, please visit:\n",
        "#https://www.crummy.com/software/BeautifulSoup/bs4/doc/\n"
      ]
    }
  ]
}